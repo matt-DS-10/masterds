{
 "cells": [
  {
   "cell_type": "markdown",
   "id": "40648905-b334-483c-ac13-b08059e787b6",
   "metadata": {},
   "source": [
    "## LISTS: Ordered, mutable collections of elements"
   ]
  },
  {
   "cell_type": "code",
   "execution_count": null,
   "id": "e6d03b9f-d4e4-45b5-ab27-b5dab596aa32",
   "metadata": {},
   "outputs": [],
   "source": [
    "my_list=[1,\"Python\",3.14,'hello',12,34.2,False]"
   ]
  },
  {
   "cell_type": "code",
   "execution_count": null,
   "id": "54821d40-0c31-44ba-b9e2-80e3e16c23dc",
   "metadata": {},
   "outputs": [],
   "source": [
    "print(my_list)"
   ]
  },
  {
   "cell_type": "code",
   "execution_count": null,
   "id": "8a5bc18e-3d17-4472-84a4-3b8bf3dfd76c",
   "metadata": {},
   "outputs": [],
   "source": [
    "my_list.append(\"new element\")\n",
    "my_list\n",
    "# se noi lo eseguiamo più volte, new element viene ripetuto il numero di volte in cui digitiamo run al codice\n"
   ]
  },
  {
   "cell_type": "code",
   "execution_count": null,
   "id": "ff039248-817d-467e-86a3-f5e48855a103",
   "metadata": {},
   "outputs": [],
   "source": [
    "my_list.remove(\"new element\")\n",
    "my_list\n",
    "# per rimuovere devi specificare la variabile esatta assegnata nella lista"
   ]
  },
  {
   "cell_type": "code",
   "execution_count": null,
   "id": "c90a535a-4d98-473c-9462-700056189808",
   "metadata": {},
   "outputs": [],
   "source": [
    "my_list[0]\n",
    "\"\"\"\n",
    "my_list è UNA LISTA\n",
    "per richiamare il primo elemento COMINCIAMO DAL numero 0 che richiamerà il numero 1\n",
    "\"\"\""
   ]
  },
  {
   "cell_type": "code",
   "execution_count": null,
   "id": "4b4097cb-df68-4640-b890-1d9635540786",
   "metadata": {},
   "outputs": [],
   "source": [
    "my_list[0:2]\n",
    "# estrae il primo e il secondo elemento, MA NON IL TERZO"
   ]
  },
  {
   "cell_type": "code",
   "execution_count": null,
   "id": "c3c084c0-0b3a-4eec-8edb-d88fe7880397",
   "metadata": {},
   "outputs": [],
   "source": [
    "my_List[2]=\"orange\""
   ]
  },
  {
   "cell_type": "code",
   "execution_count": null,
   "id": "573ce5e6-df64-447c-bebe-fd741063f803",
   "metadata": {},
   "outputs": [],
   "source": [
    "my_list.pop(1)\n",
    "# rimuove il secondo elemento della lista"
   ]
  },
  {
   "cell_type": "code",
   "execution_count": null,
   "id": "9fcdc7da-01c3-4d5f-9006-79568255f95d",
   "metadata": {},
   "outputs": [],
   "source": [
    "my_list.pop(-1)\n",
    "# rimuove l'ultimo elemento della lista"
   ]
  },
  {
   "cell_type": "markdown",
   "id": "894e3226-735b-461d-bb60-82fec8a334de",
   "metadata": {},
   "source": [
    "## TUPLE: Ordered, non-mutable collections of elements"
   ]
  },
  {
   "cell_type": "code",
   "execution_count": null,
   "id": "78990358-93c0-458a-9116-c381c21f76d2",
   "metadata": {},
   "outputs": [],
   "source": [
    "my_tuple=(\"apple\",\"banana\",\"cherry\")"
   ]
  },
  {
   "cell_type": "code",
   "execution_count": null,
   "id": "abe50590-dae2-4013-a722-090f84793bd4",
   "metadata": {},
   "outputs": [],
   "source": [
    "my_tuple[1]\n",
    "# le variabili all'interno della tupla non possono essere cancellate dopo la creazione"
   ]
  },
  {
   "cell_type": "markdown",
   "id": "4a5c008f-caef-4ae5-a9b8-f82c041434a8",
   "metadata": {},
   "source": [
    "## Dictionaries: Unordered, mutable collections of key_value pairs"
   ]
  },
  {
   "cell_type": "code",
   "execution_count": null,
   "id": "4e78bfd8-d661-4821-b423-a0a777c7e2fa",
   "metadata": {},
   "outputs": [],
   "source": [
    "my_dict={\n",
    "    \"name\":\"Matteo\",\n",
    "    \"age\":22,\n",
    "    \"location\":\"Italy\"\n",
    "}\n",
    "print(my_dict)"
   ]
  },
  {
   "cell_type": "code",
   "execution_count": null,
   "id": "474b99ec-c4e5-435a-9a7a-5e40760899c9",
   "metadata": {},
   "outputs": [],
   "source": [
    "my_dict['location']=\"ITA\"\n",
    "my_dict"
   ]
  },
  {
   "cell_type": "code",
   "execution_count": null,
   "id": "5c4febcf-78f5-42a5-a8ef-0ca2d0f49858",
   "metadata": {},
   "outputs": [],
   "source": [
    "my_dict['location']=my_tuple\n",
    "my_dict"
   ]
  },
  {
   "cell_type": "code",
   "execution_count": null,
   "id": "cccfde7e-b947-41f5-9800-14cdfd761f90",
   "metadata": {},
   "outputs": [],
   "source": [
    "my_dict={\n",
    "    \"name\":\"Matteo\",\n",
    "    \"age\":22,\n",
    "    \"location\":\"Italy\"\n",
    "}\n",
    "my_dict[\"name\"]=\"Steven\"\n",
    "my_dict"
   ]
  },
  {
   "cell_type": "code",
   "execution_count": null,
   "id": "563c276e-2bd6-484c-bab2-16ff7799c218",
   "metadata": {},
   "outputs": [],
   "source": [
    "my_dict1={\n",
    "    \"name\":\"Matt\",\n",
    "    \"age\":22,\n",
    "    \"location\":\"Italy\"\n",
    "}\n",
    "my_dict2={\n",
    "    \"name\":\"Steven\",\n",
    "    \"age\":20,\n",
    "    \"location\":\"USA\"\n",
    "}\n",
    "my_complex_list=[my_dict1,my_dict2]\n",
    "my_complex_list"
   ]
  },
  {
   "cell_type": "code",
   "execution_count": null,
   "id": "58f4947a-6456-42ab-8dcf-5dd72802cbba",
   "metadata": {},
   "outputs": [],
   "source": [
    "my_dict1[\"name\"]\n",
    "my_dict1[\"name\"][0]"
   ]
  },
  {
   "cell_type": "markdown",
   "id": "530b5e71-24f1-4974-af17-8d6294384692",
   "metadata": {},
   "source": [
    "# SETS: Unordered, mutable collections of unique elements"
   ]
  },
  {
   "cell_type": "code",
   "execution_count": null,
   "id": "91778d7a-c184-427a-933b-724ce3971930",
   "metadata": {},
   "outputs": [],
   "source": [
    "my_set={1,2,3,4,5}\n",
    "my_set"
   ]
  },
  {
   "cell_type": "code",
   "execution_count": null,
   "id": "86106f4d-886b-4426-94e3-01a70832e4e7",
   "metadata": {},
   "outputs": [],
   "source": [
    "my_set={1,2,3,4,5,2,4,4,4}\n",
    "my_set\n",
    "# esso non ti da errore, ti stampa in maniera univoca tutti gli elementi del set, rimuove i duplicati\n",
    "# we cannot access the position of the element in the set cause they are unordered, just if they are in or out the set"
   ]
  },
  {
   "cell_type": "code",
   "execution_count": null,
   "id": "957ccde4-1460-4bb8-8b09-475c5bf165b5",
   "metadata": {},
   "outputs": [],
   "source": [
    "3 in my_set\n",
    "# L'output ti dice True perchè il numero tre è incluso nel set"
   ]
  },
  {
   "cell_type": "code",
   "execution_count": null,
   "id": "287ac313-6498-4105-a663-0c86ac98d309",
   "metadata": {},
   "outputs": [],
   "source": [
    "my_set.add(10)\n",
    "my_set\n",
    "# come aggiungere un nuovo elemento al set"
   ]
  },
  {
   "cell_type": "markdown",
   "id": "19f8300c-4a7e-4a13-9166-7985cd0d28c9",
   "metadata": {},
   "source": [
    "## CONTROL FLOW: Statements in Python"
   ]
  },
  {
   "cell_type": "code",
   "execution_count": null,
   "id": "91152026-3bbb-4220-b286-b5311b82ca0a",
   "metadata": {},
   "outputs": [],
   "source": [
    "if 10>5:\n",
    "    print(\"Ten is bigger than 5\")\n",
    "    print(\"Hello\")\n",
    "# both statements will appear. è fondamentale mettere dopo l'if il tab condition o l'indemption, quello spazio che c'è dalla sinistra"
   ]
  },
  {
   "cell_type": "code",
   "execution_count": 17,
   "id": "0cd53ee1-c39e-4b5f-84b9-284fd62564b5",
   "metadata": {},
   "outputs": [
    {
     "name": "stdout",
     "output_type": "stream",
     "text": [
      "10 is bigger than 5\n"
     ]
    }
   ],
   "source": [
    "a=10\n",
    "b=5\n",
    "if a>b:\n",
    "    print(f\"{a} is bigger than {b}\")\n",
    "else:\n",
    "    print(f\"{a} is ten\")"
   ]
  },
  {
   "cell_type": "code",
   "execution_count": 13,
   "id": "2689aa48-3bf7-42e6-942d-2b46af0d6b50",
   "metadata": {},
   "outputs": [
    {
     "name": "stdin",
     "output_type": "stream",
     "text": [
      "Please input a random number 5\n"
     ]
    },
    {
     "name": "stdout",
     "output_type": "stream",
     "text": [
      "Positive\n"
     ]
    }
   ],
   "source": [
    "a=int(input(\"Please input a random number\"))\n",
    "if a>0:\n",
    "    print(\"Positive\")\n",
    "elif a==0:\n",
    "    print(\"Zero\")\n",
    "else:\n",
    "    print(\"Negative\")"
   ]
  },
  {
   "cell_type": "code",
   "execution_count": 15,
   "id": "0419cf5a-557a-42b1-be3d-b6208a1eb75c",
   "metadata": {},
   "outputs": [
    {
     "name": "stdin",
     "output_type": "stream",
     "text": [
      "Please input a random number 15\n"
     ]
    },
    {
     "name": "stdout",
     "output_type": "stream",
     "text": [
      "Teenager\n"
     ]
    }
   ],
   "source": [
    "age=int(input(\"Please input a random number\"))\n",
    "if age<13:\n",
    "    print(\"Child\")\n",
    "elif age<19:\n",
    "    print(\"Teenager\")\n",
    "elif age<65:\n",
    "    print(\"Adult\")\n",
    "else:\n",
    "    print(\"Senior\")"
   ]
  },
  {
   "cell_type": "code",
   "execution_count": 18,
   "id": "041121f0-c526-4c0b-84c6-fd0c1a6cbddb",
   "metadata": {},
   "outputs": [
    {
     "name": "stdin",
     "output_type": "stream",
     "text": [
      "Please input a random number 74\n"
     ]
    },
    {
     "name": "stdout",
     "output_type": "stream",
     "text": [
      "B\n",
      "Your evaluation is 74\n"
     ]
    }
   ],
   "source": [
    "grade=int(input(\"Please input a random number\"))\n",
    "if grade<60:\n",
    "    print(\"D\")\n",
    "elif grade<70:\n",
    "    print(\"C\")\n",
    "elif grade<90:\n",
    "    print(\"B\")\n",
    "else:\n",
    "    print(\"A\")\n",
    "print(f\"Your evaluation is {grade}\")"
   ]
  },
  {
   "cell_type": "code",
   "execution_count": 23,
   "id": "d21851c3-3fe1-4d2a-b133-b41422e1a186",
   "metadata": {},
   "outputs": [
    {
     "data": {
      "text/plain": [
       "True"
      ]
     },
     "execution_count": 23,
     "metadata": {},
     "output_type": "execute_result"
    }
   ],
   "source": [
    "def xor(a:bool,b:bool):\n",
    "    if a and b:\n",
    "        return False\n",
    "    elif a and not b:\n",
    "        return True\n",
    "    elif not a and b:\n",
    "        return False\n",
    "    else:\n",
    "        return False\n",
    "xor(True,False) # BUT ALSO xor(True,False) xor(False, False), and so on... "
   ]
  },
  {
   "cell_type": "code",
   "execution_count": 24,
   "id": "d38f59b5-144b-4d3c-af8b-32e6959d5fa0",
   "metadata": {},
   "outputs": [
    {
     "data": {
      "text/plain": [
       "True"
      ]
     },
     "execution_count": 24,
     "metadata": {},
     "output_type": "execute_result"
    }
   ],
   "source": [
    "def xor(a:bool,b:bool):\n",
    "    if a+b==1:\n",
    "        return True\n",
    "    else:\n",
    "        return False\n",
    "xor(True,False)"
   ]
  },
  {
   "cell_type": "code",
   "execution_count": 25,
   "id": "a4379ce5-f418-48d2-8c35-8d7738d45c74",
   "metadata": {},
   "outputs": [
    {
     "data": {
      "text/plain": [
       "True"
      ]
     },
     "execution_count": 25,
     "metadata": {},
     "output_type": "execute_result"
    }
   ],
   "source": [
    "def xor(a:bool,b:bool):\n",
    "    if a!=b:\n",
    "        return True\n",
    "    else:\n",
    "        return False\n",
    "xor(True,False)"
   ]
  },
  {
   "cell_type": "code",
   "execution_count": 26,
   "id": "75005ce8-f5bd-4606-b4a1-9063931f514d",
   "metadata": {},
   "outputs": [
    {
     "data": {
      "text/plain": [
       "True"
      ]
     },
     "execution_count": 26,
     "metadata": {},
     "output_type": "execute_result"
    }
   ],
   "source": [
    "def xor(a:bool,b:bool):\n",
    "    return a!=b  \n",
    "xor(True,False)"
   ]
  },
  {
   "cell_type": "code",
   "execution_count": 27,
   "id": "600f2e97-ace1-4acf-8daa-133b62dbc8a6",
   "metadata": {},
   "outputs": [
    {
     "name": "stdout",
     "output_type": "stream",
     "text": [
      "True\n"
     ]
    }
   ],
   "source": [
    "a=True\n",
    "b=False\n",
    "print (a!=b)"
   ]
  }
 ],
 "metadata": {
  "kernelspec": {
   "display_name": "masterds",
   "language": "python",
   "name": "masterds"
  },
  "language_info": {
   "codemirror_mode": {
    "name": "ipython",
    "version": 3
   },
   "file_extension": ".py",
   "mimetype": "text/x-python",
   "name": "python",
   "nbconvert_exporter": "python",
   "pygments_lexer": "ipython3",
   "version": "3.11.11"
  }
 },
 "nbformat": 4,
 "nbformat_minor": 5
}
