{
 "cells": [
  {
   "cell_type": "code",
   "execution_count": 13,
   "id": "9dfaa6ca-8099-4b78-8738-0d69fbdbb015",
   "metadata": {},
   "outputs": [
    {
     "name": "stdout",
     "output_type": "stream",
     "text": [
      "Ten is greater than five!\n"
     ]
    }
   ],
   "source": [
    "if 10>5:\n",
    "    print(\"Ten is greater than five!\")\n",
    "    \"\"\"\n",
    "    This comment is multi-line\n",
    "    \"\"\"                 \n",
    "# this is a single line comment"
   ]
  },
  {
   "cell_type": "code",
   "execution_count": 11,
   "id": "926d355d-dbfa-4f71-9fcc-838fb429a0d5",
   "metadata": {},
   "outputs": [
    {
     "data": {
      "text/plain": [
       "8"
      ]
     },
     "execution_count": 11,
     "metadata": {},
     "output_type": "execute_result"
    }
   ],
   "source": [
    "def sum (a,b):\n",
    "    result=a+b\n",
    "    return result\n",
    "sum(5,3)"
   ]
  },
  {
   "cell_type": "code",
   "execution_count": 27,
   "id": "078457d0-cb1d-48dc-bad9-cda22e6cd845",
   "metadata": {},
   "outputs": [],
   "source": [
    "age=30 \n",
    "temperature=30.4\n",
    "name=\"matteo\"\n"
   ]
  },
  {
   "cell_type": "code",
   "execution_count": 32,
   "id": "1aaee954-a5d4-407a-ab75-8a46f3a46982",
   "metadata": {},
   "outputs": [
    {
     "data": {
      "text/plain": [
       "int"
      ]
     },
     "execution_count": 32,
     "metadata": {},
     "output_type": "execute_result"
    }
   ],
   "source": [
    "type(age)\n",
    "\"L'output memorizza solo l'ultima variabile assegnata come type\""
   ]
  },
  {
   "cell_type": "code",
   "execution_count": 33,
   "id": "8ceb9662-3d8c-414b-9ac3-784f8f3bc777",
   "metadata": {},
   "outputs": [
    {
     "data": {
      "text/plain": [
       "float"
      ]
     },
     "execution_count": 33,
     "metadata": {},
     "output_type": "execute_result"
    }
   ],
   "source": [
    "type(temperature)"
   ]
  },
  {
   "cell_type": "code",
   "execution_count": 36,
   "id": "fde0a41b-5683-442d-a7da-2582b241728b",
   "metadata": {},
   "outputs": [
    {
     "data": {
      "text/plain": [
       "str"
      ]
     },
     "execution_count": 36,
     "metadata": {},
     "output_type": "execute_result"
    }
   ],
   "source": [
    "type(name)"
   ]
  },
  {
   "cell_type": "code",
   "execution_count": 34,
   "id": "d2bc5ad6-5834-4aa5-b2aa-7b2f7854adde",
   "metadata": {},
   "outputs": [
    {
     "data": {
      "text/plain": [
       "bool"
      ]
     },
     "execution_count": 34,
     "metadata": {},
     "output_type": "execute_result"
    }
   ],
   "source": [
    "type(10>5)"
   ]
  },
  {
   "cell_type": "code",
   "execution_count": 35,
   "id": "ad15384f-cabb-4cfb-80a3-9296004c588f",
   "metadata": {},
   "outputs": [
    {
     "data": {
      "text/plain": [
       "bool"
      ]
     },
     "execution_count": 35,
     "metadata": {},
     "output_type": "execute_result"
    }
   ],
   "source": [
    "type(True)"
   ]
  },
  {
   "cell_type": "code",
   "execution_count": 38,
   "id": "41a160d6-3a44-4d07-ab9b-25bbb9095ed3",
   "metadata": {},
   "outputs": [
    {
     "name": "stdout",
     "output_type": "stream",
     "text": [
      "ten is greater than 5\n"
     ]
    }
   ],
   "source": [
    "if (10>5)==1:\n",
    "    print(\"ten is greater than 5\")"
   ]
  },
  {
   "cell_type": "code",
   "execution_count": 39,
   "id": "a4e881b8-a92b-433b-bce6-e4f073ecaed8",
   "metadata": {},
   "outputs": [
    {
     "data": {
      "text/plain": [
       "'30'"
      ]
     },
     "execution_count": 39,
     "metadata": {},
     "output_type": "execute_result"
    }
   ],
   "source": [
    "str(age)\n",
    "\"\"\"\n",
    "This command is to change the datatype but not all conversion are possible\n",
    "For example from both int and float to a string variable, from int to float is possible and viceversa\n",
    "WHY? Because it accepts either integer or numbers with decimal points and the other cancels the decimal points present in the number\n",
    "\n",
    "\"\"\""
   ]
  },
  {
   "cell_type": "code",
   "execution_count": 42,
   "id": "4b86d7db-3e1e-47b9-973d-cf8365e81e1d",
   "metadata": {},
   "outputs": [],
   "source": [
    "first_name=\"john\"\n",
    "FirstName=\"matt\"\n",
    "\"Assign the variable in these ways\"\n"
   ]
  },
  {
   "cell_type": "code",
   "execution_count": 43,
   "id": "992b852a-429c-4628-9dac-58b80d7086d9",
   "metadata": {},
   "outputs": [
    {
     "data": {
      "text/plain": [
       "3"
      ]
     },
     "execution_count": 43,
     "metadata": {},
     "output_type": "execute_result"
    }
   ],
   "source": [
    "f=3.14\n",
    "int(f)"
   ]
  },
  {
   "cell_type": "code",
   "execution_count": 44,
   "id": "9bffd45d-d366-498c-846c-a6a07c186cde",
   "metadata": {},
   "outputs": [
    {
     "data": {
      "text/plain": [
       "100.0"
      ]
     },
     "execution_count": 44,
     "metadata": {},
     "output_type": "execute_result"
    }
   ],
   "source": [
    "g=100\n",
    "float(g)"
   ]
  },
  {
   "cell_type": "code",
   "execution_count": 45,
   "id": "1dd61b94-bd46-4ac0-b85f-6c667af88930",
   "metadata": {},
   "outputs": [],
   "source": [
    "maxdistance=90\n",
    "temperature=25.6\n",
    "greet_ing=\"cheers\"\n",
    "is_raining=True"
   ]
  },
  {
   "cell_type": "code",
   "execution_count": 46,
   "id": "f748a9f2-b79b-4209-9cdb-32d48d3d7d79",
   "metadata": {},
   "outputs": [
    {
     "data": {
      "text/plain": [
       "99.9"
      ]
     },
     "execution_count": 46,
     "metadata": {},
     "output_type": "execute_result"
    }
   ],
   "source": [
    "float(str(99.9))\n",
    "\"\"\"\n",
    "Cambia la struttura di 99.9 da variabile character a variabile float\n",
    "\"\"\""
   ]
  },
  {
   "cell_type": "code",
   "execution_count": 52,
   "id": "635c9d3f-8be6-4f92-ac30-43bebf7f562d",
   "metadata": {},
   "outputs": [
    {
     "data": {
      "text/plain": [
       "1024"
      ]
     },
     "execution_count": 52,
     "metadata": {},
     "output_type": "execute_result"
    }
   ],
   "source": [
    "2**10\n",
    "\"funzione esponenziale\""
   ]
  },
  {
   "cell_type": "code",
   "execution_count": 21,
   "id": "b19e2655-0cb9-4426-b1b2-89f809cb42a3",
   "metadata": {},
   "outputs": [],
   "source": [
    "a=10\n",
    "b=5"
   ]
  },
  {
   "cell_type": "code",
   "execution_count": 61,
   "id": "3096ce69-f320-4ebc-8a5e-f4f3c200c10a",
   "metadata": {},
   "outputs": [
    {
     "data": {
      "text/plain": [
       "15"
      ]
     },
     "execution_count": 61,
     "metadata": {},
     "output_type": "execute_result"
    }
   ],
   "source": [
    "n=a+b\n",
    "n"
   ]
  },
  {
   "cell_type": "code",
   "execution_count": 62,
   "id": "55fa534d-6eb1-4a28-b26b-895d1e159294",
   "metadata": {},
   "outputs": [
    {
     "data": {
      "text/plain": [
       "True"
      ]
     },
     "execution_count": 62,
     "metadata": {},
     "output_type": "execute_result"
    }
   ],
   "source": [
    "n==a+b\n"
   ]
  },
  {
   "cell_type": "code",
   "execution_count": 64,
   "id": "bedd068e-ea7d-47ce-a7c4-8cfdc593194b",
   "metadata": {},
   "outputs": [
    {
     "data": {
      "text/plain": [
       "20"
      ]
     },
     "execution_count": 64,
     "metadata": {},
     "output_type": "execute_result"
    }
   ],
   "source": [
    "a+=5\n",
    "a\n",
    "\"alla variabile precedentemente assegnata 10 ci aggiunge 5 perchè c'è + e poi l'uguale =\""
   ]
  },
  {
   "cell_type": "code",
   "execution_count": 65,
   "id": "86b27862-5f82-4519-a354-b1ed605c192b",
   "metadata": {},
   "outputs": [
    {
     "data": {
      "text/plain": [
       "True"
      ]
     },
     "execution_count": 65,
     "metadata": {},
     "output_type": "execute_result"
    }
   ],
   "source": [
    "3==3.0\n",
    "\"True\""
   ]
  },
  {
   "cell_type": "code",
   "execution_count": 66,
   "id": "289be4b6-74e8-49b6-be2a-b7a0f8f3e0a1",
   "metadata": {},
   "outputs": [
    {
     "data": {
      "text/plain": [
       "False"
      ]
     },
     "execution_count": 66,
     "metadata": {},
     "output_type": "execute_result"
    }
   ],
   "source": [
    "\"hello\"==\"Hello\"\n",
    "\"Falso perchè Phyton è case sensitive, hello lower letter is different from Hello capital letter\""
   ]
  },
  {
   "cell_type": "code",
   "execution_count": 67,
   "id": "6cbcbccb-8d1a-48e9-a2e7-a6e1ea833f23",
   "metadata": {},
   "outputs": [
    {
     "data": {
      "text/plain": [
       "True"
      ]
     },
     "execution_count": 67,
     "metadata": {},
     "output_type": "execute_result"
    }
   ],
   "source": [
    "31.2!=31"
   ]
  },
  {
   "cell_type": "code",
   "execution_count": 68,
   "id": "eee15b88-c5e0-475b-89cf-958012570358",
   "metadata": {},
   "outputs": [
    {
     "data": {
      "text/plain": [
       "True"
      ]
     },
     "execution_count": 68,
     "metadata": {},
     "output_type": "execute_result"
    }
   ],
   "source": [
    "76>21"
   ]
  },
  {
   "cell_type": "code",
   "execution_count": 7,
   "id": "d0444537-1688-4ebd-92b6-e53b9dfeceec",
   "metadata": {},
   "outputs": [
    {
     "name": "stdin",
     "output_type": "stream",
     "text": [
      "Enter value for x 4\n",
      "Enter value for y 2\n"
     ]
    },
    {
     "name": "stdout",
     "output_type": "stream",
     "text": [
      "The sum is 42\n"
     ]
    }
   ],
   "source": [
    "x=input(\"Enter value for x\")\n",
    "y=input(\"Enter value for y\")\n",
    "print(\"The sum is \" + (x + y))"
   ]
  },
  {
   "cell_type": "code",
   "execution_count": 8,
   "id": "2016488b-1253-4df1-8286-0f1500639d42",
   "metadata": {},
   "outputs": [
    {
     "name": "stdin",
     "output_type": "stream",
     "text": [
      "Enter value for x 100\n",
      "Enter value for y 50\n"
     ]
    },
    {
     "name": "stdout",
     "output_type": "stream",
     "text": [
      "The sum is 150\n"
     ]
    }
   ],
   "source": [
    "x=input(\"Enter value for x\")\n",
    "y=input(\"Enter value for y\")\n",
    "print(\"The sum is \" + str(int(x) + int(y)))"
   ]
  },
  {
   "cell_type": "code",
   "execution_count": 9,
   "id": "02d1fd11-25f7-4b84-95c6-aed33810136d",
   "metadata": {},
   "outputs": [
    {
     "name": "stdin",
     "output_type": "stream",
     "text": [
      "Enter value for x 100\n",
      "Enter value for y 50\n"
     ]
    },
    {
     "name": "stdout",
     "output_type": "stream",
     "text": [
      "The sum is 150\n"
     ]
    }
   ],
   "source": [
    "x=int(input(\"Enter value for x\"))\n",
    "y=int(input(\"Enter value for y\"))\n",
    "z=str(x+y)\n",
    "print(\"The sum is \" + z)"
   ]
  },
  {
   "cell_type": "code",
   "execution_count": 12,
   "id": "26c6685b-5ce7-47e8-bbe3-b4b0a3bfb558",
   "metadata": {},
   "outputs": [
    {
     "name": "stdin",
     "output_type": "stream",
     "text": [
      "Enter value for x 3\n",
      "Enter value for y 4\n"
     ]
    },
    {
     "name": "stdout",
     "output_type": "stream",
     "text": [
      "The sum is 7\n"
     ]
    }
   ],
   "source": [
    "x=int(input(\"Enter value for x\"))\n",
    "y=int(input(\"Enter value for y\"))\n",
    "z=str(int(x)+int(y))\n",
    "print(\"The sum is \" + z)\n",
    "\"+ concateni metti insieme nella stessa riga più cose\""
   ]
  },
  {
   "cell_type": "code",
   "execution_count": 28,
   "id": "9b1f4a03-c1bb-4c3b-811b-3c56a3484825",
   "metadata": {},
   "outputs": [
    {
     "name": "stdout",
     "output_type": "stream",
     "text": [
      "is a*b == 50 \n",
      "True\n"
     ]
    }
   ],
   "source": [
    "print(\"is a*b == 50 \", a*b==50,sep=\"\\n\")"
   ]
  },
  {
   "cell_type": "code",
   "execution_count": 29,
   "id": "9cbb21a0-e21b-4f29-82d0-5d6c3cb3ac2f",
   "metadata": {},
   "outputs": [
    {
     "name": "stdout",
     "output_type": "stream",
     "text": [
      "My wife said \"NO!\"\n",
      "while my daughter said \"YES\"\n",
      "\n"
     ]
    }
   ],
   "source": [
    "print('''My wife said \"NO!\"\n",
    "while my daughter said \"YES\"\n",
    "''')"
   ]
  },
  {
   "cell_type": "code",
   "execution_count": 35,
   "id": "f7c6e052-1c96-4ab0-8049-1c3cd08c2177",
   "metadata": {},
   "outputs": [
    {
     "data": {
      "text/plain": [
       "'e in Milan'"
      ]
     },
     "execution_count": 35,
     "metadata": {},
     "output_type": "execute_result"
    }
   ],
   "source": [
    "s=\"Today we have a strike in Milan\"\n",
    "s[3:10] # just the chars from 3 to 10 of the string\n",
    "s[:10] # the first 10 chars of the string\n",
    "s[10:] # the string starting from the 10th char\n",
    "s[:-10] # the whole string except the last 10 chars\n",
    "s[-10:] # the last 10 chars of the string"
   ]
  },
  {
   "cell_type": "code",
   "execution_count": 38,
   "id": "60bf9671-014b-4f2e-ae28-d2dea3edc874",
   "metadata": {},
   "outputs": [
    {
     "name": "stdout",
     "output_type": "stream",
     "text": [
      "the sum of 10 and 5 is 15\n"
     ]
    }
   ],
   "source": [
    "print(f\"the sum of {a} and {b} is {a+b}\")"
   ]
  }
 ],
 "metadata": {
  "kernelspec": {
   "display_name": "masterds",
   "language": "python",
   "name": "masterds"
  },
  "language_info": {
   "codemirror_mode": {
    "name": "ipython",
    "version": 3
   },
   "file_extension": ".py",
   "mimetype": "text/x-python",
   "name": "python",
   "nbconvert_exporter": "python",
   "pygments_lexer": "ipython3",
   "version": "3.11.11"
  }
 },
 "nbformat": 4,
 "nbformat_minor": 5
}
