{
 "cells": [
  {
   "cell_type": "markdown",
   "id": "e42a359d-d575-4cdc-9af3-0a737b723394",
   "metadata": {},
   "source": [
    "## LOOPS IN PYTHON"
   ]
  },
  {
   "cell_type": "code",
   "execution_count": null,
   "id": "2414541c-3f97-4476-87b5-96693a092901",
   "metadata": {},
   "outputs": [],
   "source": [
    "for n in range(5):\n",
    "    print(n)"
   ]
  },
  {
   "cell_type": "code",
   "execution_count": null,
   "id": "4dd383dc-cb67-44d1-a65c-41a1995a6569",
   "metadata": {},
   "outputs": [],
   "source": [
    "for n in [1,2,3,6,8,-44]:\n",
    "    print(n)"
   ]
  },
  {
   "cell_type": "code",
   "execution_count": null,
   "id": "92f856d3-0899-45d0-85f7-ab720108c0e9",
   "metadata": {},
   "outputs": [],
   "source": [
    "counter=0\n",
    "while counter<5:\n",
    "    print(counter)\n",
    "    counter+=1 \n",
    "# +=1 incrementiamo il counter di 1 fino a quando non verranno stampati cinque risultati. Il risultato sarà 0,1,2,3,4. 0+1=1 , 1+1=2, 2+1=3 e così via\n",
    "# NON CHE apparirà all'ultimo il numero 5. Non c'è bisogno del break tanto si fermerà al quinto risultato"
   ]
  },
  {
   "cell_type": "code",
   "execution_count": null,
   "id": "b049d7d3-e12e-446a-b71d-a02c3c1e408b",
   "metadata": {},
   "outputs": [],
   "source": [
    "counter=0\n",
    "while counter<5:\n",
    "    print(counter)\n",
    "    counter+=1\n",
    "    if counter==3:\n",
    "        break\n",
    "print(counter)"
   ]
  },
  {
   "cell_type": "code",
   "execution_count": null,
   "id": "4c6c6aa3-4d7a-41cc-89ff-b44919b3febb",
   "metadata": {},
   "outputs": [],
   "source": [
    "multi_dim_list=[\n",
    "    [1,2,3],\n",
    "    [4,5,6],\n",
    "]\n",
    "multi_dim_list\n",
    "type(multi_dim_list)"
   ]
  },
  {
   "cell_type": "code",
   "execution_count": null,
   "id": "5f3fcb7f-3146-424c-a178-fd37159c0731",
   "metadata": {},
   "outputs": [],
   "source": [
    "multi_dim_list[1][2]\n",
    "# 1 means second row, 2 means third column, therefore the result is 6"
   ]
  },
  {
   "cell_type": "code",
   "execution_count": null,
   "id": "2cd20a32-7baa-4724-bf21-185098bfd1d8",
   "metadata": {},
   "outputs": [],
   "source": [
    "for i in [0,1]:\n",
    "    for j in [0,1,2]:\n",
    "        print(multi_dim_list[i][j])\n",
    "# nested loop because we have to scroll with two different dimensions"
   ]
  },
  {
   "cell_type": "code",
   "execution_count": null,
   "id": "fc408df1-f9c0-43da-af92-9fc4c7210405",
   "metadata": {},
   "outputs": [],
   "source": [
    "# write function that ask user to enter a random number: if it's not an even number, ask for an odd number. If it's not neither an odd number, please ask a text string."
   ]
  },
  {
   "cell_type": "code",
   "execution_count": 7,
   "id": "ec5b87e5-5633-482d-afd0-6d76d79493bc",
   "metadata": {},
   "outputs": [
    {
     "ename": "IndentationError",
     "evalue": "unexpected indent (3170724959.py, line 2)",
     "output_type": "error",
     "traceback": [
      "\u001b[0;36m  Cell \u001b[0;32mIn[7], line 2\u001b[0;36m\u001b[0m\n\u001b[0;31m    if even_num %2 == 0:\u001b[0m\n\u001b[0m    ^\u001b[0m\n\u001b[0;31mIndentationError\u001b[0m\u001b[0;31m:\u001b[0m unexpected indent\n"
     ]
    }
   ],
   "source": [
    "even_num=input(\"Give me an even number\")\n",
    "    if even_num %2 == 0:\n",
    "        return (\"Even\")\n",
    "    elif even_num %2!=0:\n",
    "        return(\"Odd\")\n",
    "    else:\n",
    "        return(\"Text\")   \n",
    "    \n",
    "    "
   ]
  },
  {
   "cell_type": "code",
   "execution_count": null,
   "id": "1a6ae5f7-788c-412a-b6d6-e1e697d89bae",
   "metadata": {},
   "outputs": [
    {
     "name": "stdin",
     "output_type": "stream",
     "text": [
      "Give me an even number 3\n"
     ]
    },
    {
     "name": "stdout",
     "output_type": "stream",
     "text": [
      "This is not an even number\n"
     ]
    },
    {
     "name": "stdin",
     "output_type": "stream",
     "text": [
      "Give me an even number text\n"
     ]
    },
    {
     "name": "stdout",
     "output_type": "stream",
     "text": [
      "this is not a number at all!\n"
     ]
    }
   ],
   "source": [
    "a=1\n",
    "while int(a) %2!=0:\n",
    "    a=input(\"Give me an even number\")\n",
    "    if a.isnumeric():\n",
    "        if int(a) %2==0:\n",
    "            print(\"thanks, the number is even!\")\n",
    "        else:\n",
    "            print(\"This is not an even number\")\n",
    "    else:\n",
    "        print(\"this is not a number at all!\")\n",
    "        a=1\n",
    "    "
   ]
  },
  {
   "cell_type": "code",
   "execution_count": null,
   "id": "c5f187e8-280d-4140-b2a4-d9109153ab02",
   "metadata": {},
   "outputs": [],
   "source": [
    "can_exit=False\n",
    "while (not can_exit):\n",
    "    n=input(\"Enter an EVEN number, please\")\n",
    "    if n.isnumeric():\n",
    "        if int(n) %2==0: \n",
    "            print(f\"Thanks, {n} is an even number)\n",
    "            can_exit=True\n",
    "        else:\n",
    "            print(f\"Sorry, but {n} is NOT an even number)\n",
    "    else:\n",
    "        print(f\"{n} is NOT a number)   \n",
    "\n"
   ]
  },
  {
   "cell_type": "code",
   "execution_count": null,
   "id": "7a2c8d5d-7da3-4081-93d7-72366a95732e",
   "metadata": {},
   "outputs": [],
   "source": [
    "\n"
   ]
  }
 ],
 "metadata": {
  "kernelspec": {
   "display_name": "masterds",
   "language": "python",
   "name": "masterds"
  },
  "language_info": {
   "codemirror_mode": {
    "name": "ipython",
    "version": 3
   },
   "file_extension": ".py",
   "mimetype": "text/x-python",
   "name": "python",
   "nbconvert_exporter": "python",
   "pygments_lexer": "ipython3",
   "version": "3.11.11"
  }
 },
 "nbformat": 4,
 "nbformat_minor": 5
}
